{
 "cells": [
  {
   "cell_type": "code",
   "execution_count": 11,
   "metadata": {},
   "outputs": [],
   "source": [
    "import json\n",
    "import pickle\n",
    "import cv2\n",
    "\n",
    "# pip install import-ipynb\n",
    "import import_ipynb\n",
    "from stereo_camera_calibration import *"
   ]
  },
  {
   "cell_type": "code",
   "execution_count": 12,
   "metadata": {},
   "outputs": [],
   "source": [
    "def read_keypoints(path):\n",
    "    \n",
    "    with open(path) as input_file:\n",
    "        all_data = json.load(input_file)['captures'][2:]\n",
    "    left, right = [], []\n",
    "    left_frame_keypoints = []\n",
    "    right_frame_keypoints = []\n",
    "    \n",
    "    for i in range(len(all_data)):\n",
    "        if i % 2 == 0:\n",
    "            left.append(all_data[i])\n",
    "        else:\n",
    "            right.append(all_data[i])\n",
    "            \n",
    "    for i in range(len(left)):\n",
    "        left_frame_keypoints.append(get_frame_points(left[i]['annotations'][3]['values'][0]['keypoints']))\n",
    "    for i in range(len(right)):\n",
    "        right_frame_keypoints.append(get_frame_points(right[i]['annotations'][3]['values'][0]['keypoints']))\n",
    "        \n",
    "    print(\"find {} frames from left camera.\".format(len(left_frame_keypoints)))\n",
    "    for i in range(len(left_frame_keypoints)):\n",
    "        print(\"find {} key points in left frame {}.\".format(len(left_frame_keypoints[i]), i))\n",
    "    print(\"=====================================================\")\n",
    "    print(\"find {} frames from right camera.\".format(len(right_frame_keypoints)))\n",
    "    for i in range(len(right_frame_keypoints)):\n",
    "        print(\"find {} key points in right frame {}.\".format(len(right_frame_keypoints[i]), i))\n",
    "    \n",
    "    keypoint_data = {\"left\": left_frame_keypoints, \"right\": right_frame_keypoints}\n",
    "    return keypoint_data\n",
    "\n",
    "def get_frame_points(frame):\n",
    "    result = []\n",
    "    for i in range(len(frame)):\n",
    "        if frame[i]['x'] != 0 and frame[i]['y'] != 0:\n",
    "            result.append((frame[i]['x'], frame[i]['y']))\n",
    "    return result"
   ]
  },
  {
   "cell_type": "code",
   "execution_count": 13,
   "metadata": {},
   "outputs": [],
   "source": [
    "def read_cal_model(path):\n",
    "    with open(path, \"rb\") as input_file:\n",
    "        cal_data = pickle.load(input_file)\n",
    "    return cal_data"
   ]
  },
  {
   "cell_type": "code",
   "execution_count": 14,
   "metadata": {},
   "outputs": [],
   "source": [
    "def triangulate(cal_data, keypoint_data):\n",
    "    R1, R2, P1, P2, Q, roi1, roi2 = cv2.stereoRectify(\n",
    "        cal_data.camera_model[\"M1\"],\n",
    "        cal_data.camera_model[\"dist1\"],\n",
    "        cal_data.camera_model[\"M2\"],\n",
    "        cal_data.camera_model[\"dist2\"],\n",
    "        (1024, 1024),\n",
    "        cal_data.camera_model[\"R\"],\n",
    "        cal_data.camera_model[\"T\"]\n",
    "    )\n",
    "    \n",
    "#     print(\"P1\", P1)\n",
    "#     print(\"P2\", P2)\n",
    "    left_frame_keypoints = keypoint_data[\"left\"]\n",
    "    right_frame_keypoints = keypoint_data[\"right\"]\n",
    "    \n",
    "    # iterate on number of frames\n",
    "    for i in range(len(left_frame_keypoints)):\n",
    "        # iterate on each pair of key point per frame\n",
    "        for j in range(len(left_frame_keypoints[i])):\n",
    "            triang_point = cv2.triangulatePoints(P1, P2, left_frame_keypoints[i][j], right_frame_keypoints[i][j])\n",
    "            # print(triang_point)\n",
    "            euclidian = triang_point / triang_point[3]\n",
    "            euclidian = np.asarray(euclidian, dtype=np.float32)\n",
    "            print(f\"Euclidian Co-ordinate: X:{euclidian[0]} Y:{euclidian[1]} Z:{euclidian[2]}\")"
   ]
  },
  {
   "cell_type": "code",
   "execution_count": 15,
   "metadata": {
    "scrolled": true
   },
   "outputs": [
    {
     "name": "stdout",
     "output_type": "stream",
     "text": [
      "find 2 frames from left camera.\n",
      "find 10 key points in left frame 0.\n",
      "find 10 key points in left frame 1.\n",
      "=====================================================\n",
      "find 2 frames from right camera.\n",
      "find 10 key points in right frame 0.\n",
      "find 10 key points in right frame 1.\n",
      "Euclidian Co-ordinate: X:[-3.2038932] Y:[-1.0778527] Z:[1.3063514]\n",
      "Euclidian Co-ordinate: X:[-3.203107] Y:[-1.0729501] Z:[1.3061768]\n",
      "Euclidian Co-ordinate: X:[-3.2025158] Y:[-1.0692524] Z:[1.3060455]\n",
      "Euclidian Co-ordinate: X:[-3.2019224] Y:[-1.0655583] Z:[1.3059136]\n",
      "Euclidian Co-ordinate: X:[-3.2013617] Y:[-1.0620515] Z:[1.3057891]\n",
      "Euclidian Co-ordinate: X:[-3.199001] Y:[-1.0766696] Z:[1.3043331]\n",
      "Euclidian Co-ordinate: X:[-3.198213] Y:[-1.0717503] Z:[1.3041581]\n",
      "Euclidian Co-ordinate: X:[-3.197622] Y:[-1.0680609] Z:[1.3040268]\n",
      "Euclidian Co-ordinate: X:[-3.1970313] Y:[-1.0643713] Z:[1.3038956]\n",
      "Euclidian Co-ordinate: X:[-3.1964672] Y:[-1.0608515] Z:[1.3037703]\n",
      "Euclidian Co-ordinate: X:[-3.6786668] Y:[-0.80090505] Z:[1.5149431]\n",
      "Euclidian Co-ordinate: X:[-3.674433] Y:[-0.8039632] Z:[1.5137336]\n",
      "Euclidian Co-ordinate: X:[-3.6712384] Y:[-0.8062698] Z:[1.512821]\n",
      "Euclidian Co-ordinate: X:[-3.668048] Y:[-0.80857384] Z:[1.5119094]\n",
      "Euclidian Co-ordinate: X:[-3.6650195] Y:[-0.81076163] Z:[1.5110443]\n",
      "Euclidian Co-ordinate: X:[-3.649203] Y:[-0.7863802] Z:[1.5055768]\n",
      "Euclidian Co-ordinate: X:[-3.6480331] Y:[-0.79096407] Z:[1.5053419]\n",
      "Euclidian Co-ordinate: X:[-3.6471534] Y:[-0.7944015] Z:[1.5051646]\n",
      "Euclidian Co-ordinate: X:[-3.6462736] Y:[-0.79783905] Z:[1.5049875]\n",
      "Euclidian Co-ordinate: X:[-3.6454365] Y:[-0.80111885] Z:[1.5048193]\n"
     ]
    }
   ],
   "source": [
    "if __name__ == \"__main__\":\n",
    "    keypoint_data = read_keypoints(\"./test_frames/TestJsons/captures_000.json\")\n",
    "    cal_data = read_cal_model(\"./camera_model.pickle\")\n",
    "    triangulate(cal_data, keypoint_data)"
   ]
  },
  {
   "cell_type": "code",
   "execution_count": null,
   "metadata": {},
   "outputs": [],
   "source": []
  }
 ],
 "metadata": {
  "kernelspec": {
   "display_name": "Python 3 (ipykernel)",
   "language": "python",
   "name": "python3"
  },
  "language_info": {
   "codemirror_mode": {
    "name": "ipython",
    "version": 3
   },
   "file_extension": ".py",
   "mimetype": "text/x-python",
   "name": "python",
   "nbconvert_exporter": "python",
   "pygments_lexer": "ipython3",
   "version": "3.7.6"
  }
 },
 "nbformat": 4,
 "nbformat_minor": 4
}
