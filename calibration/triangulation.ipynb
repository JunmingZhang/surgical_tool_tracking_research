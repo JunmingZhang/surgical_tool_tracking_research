{
 "cells": [
  {
   "cell_type": "code",
   "execution_count": 1,
   "metadata": {},
   "outputs": [
    {
     "name": "stdout",
     "output_type": "stream",
     "text": [
      "importing Jupyter notebook from stereo_camera_calibration.ipynb\n"
     ]
    }
   ],
   "source": [
    "import json\n",
    "import pickle\n",
    "import cv2\n",
    "import numpy as np\n",
    "\n",
    "# !pip install import-ipynb\n",
    "import import_ipynb\n",
    "from stereo_camera_calibration import *"
   ]
  },
  {
   "cell_type": "code",
   "execution_count": 4,
   "metadata": {},
   "outputs": [],
   "source": [
    "def read_keypoints(path):\n",
    "    \n",
    "    with open(path) as input_file:\n",
    "        all_data = json.load(input_file)['captures'][2:]\n",
    "    left, right = [], []\n",
    "    left_frame_keypoints = []\n",
    "    right_frame_keypoints = []\n",
    "    \n",
    "    for i in range(len(all_data)):\n",
    "        if i % 2 == 0:\n",
    "            left.append(all_data[i])\n",
    "        else:\n",
    "            right.append(all_data[i])\n",
    "            \n",
    "    for i in range(len(left)):\n",
    "        left_frame_keypoints.append(get_frame_points(left[i]['annotations'][3]['values'][0]['keypoints']))\n",
    "    for i in range(len(right)):\n",
    "        right_frame_keypoints.append(get_frame_points(right[i]['annotations'][3]['values'][0]['keypoints']))\n",
    "        \n",
    "    print(\"find {} frames from left camera.\".format(len(left_frame_keypoints)))\n",
    "    for i in range(len(left_frame_keypoints)):\n",
    "        print(\"find {} key points in left frame {}.\".format(len(left_frame_keypoints[i]), i))\n",
    "    print(\"=====================================================\")\n",
    "    print(\"find {} frames from right camera.\".format(len(right_frame_keypoints)))\n",
    "    for i in range(len(right_frame_keypoints)):\n",
    "        print(\"find {} key points in right frame {}.\".format(len(right_frame_keypoints[i]), i))\n",
    "    \n",
    "    keypoint_data = {\"left\": left_frame_keypoints, \"right\": right_frame_keypoints}\n",
    "    return keypoint_data\n",
    "\n",
    "def get_frame_points(frame):\n",
    "    result = []\n",
    "    for i in range(len(frame)):\n",
    "        if frame[i]['x'] != 0 and frame[i]['y'] != 0:\n",
    "            result.append((frame[i]['x'], frame[i]['y']))\n",
    "    return result"
   ]
  },
  {
   "cell_type": "code",
   "execution_count": 3,
   "metadata": {},
   "outputs": [],
   "source": [
    "def read_cal_model(path):\n",
    "    with open(path, \"rb\") as input_file:\n",
    "        cal_data = pickle.load(input_file)\n",
    "    return cal_data"
   ]
  },
  {
   "cell_type": "code",
   "execution_count": 16,
   "metadata": {},
   "outputs": [],
   "source": [
    "def triangulate(cal_data, keypoint_data):\n",
    "    R1, R2, P1, P2, Q, roi1, roi2 = cv2.stereoRectify(\n",
    "        cal_data.camera_model[\"M1\"],\n",
    "        cal_data.camera_model[\"dist1\"],\n",
    "        cal_data.camera_model[\"M2\"],\n",
    "        cal_data.camera_model[\"dist2\"],\n",
    "        (1024, 1024),\n",
    "        cal_data.camera_model[\"R\"],\n",
    "        cal_data.camera_model[\"T\"]\n",
    "    )\n",
    "    \n",
    "#     print(\"P1\", P1)\n",
    "#     print(\"P2\", P2)\n",
    "    left_frame_keypoints = keypoint_data[\"left\"]\n",
    "    right_frame_keypoints = keypoint_data[\"right\"]\n",
    "\n",
    "    # print(P1)\n",
    "\n",
    "    # P1 = np.array([[2.605089, 0.0, 0.0], [0.0, 2.605089, 0.0], [0.0, 0.0, -1.03045678]])\n",
    "    # P2 = np.array([[2.605089, 0.0, 0.0], [0.0, 2.605089, 0.0], [0.0, 0.0, -1.03045678]])\n",
    "    \n",
    "    # iterate on number of frames\n",
    "    for i in range(len(left_frame_keypoints)):\n",
    "        # iterate on each pair of key point per frame\n",
    "        for j in range(len(left_frame_keypoints[i])):\n",
    "            triang_point = cv2.triangulatePoints(P1, P2, left_frame_keypoints[i][j], right_frame_keypoints[i][j])\n",
    "            # print(triang_point)\n",
    "            euclidian = triang_point / triang_point[3]\n",
    "            euclidian = np.asarray(euclidian, dtype=np.float32)\n",
    "            print(f\"Euclidian Co-ordinate: X:{euclidian[0]} Y:{euclidian[1]} Z:{euclidian[2]}\")"
   ]
  },
  {
   "cell_type": "code",
   "execution_count": 17,
   "metadata": {
    "scrolled": true
   },
   "outputs": [
    {
     "name": "stdout",
     "output_type": "stream",
     "text": [
      "find 2 frames from left camera.\n",
      "find 10 key points in left frame 0.\n",
      "find 10 key points in left frame 1.\n",
      "=====================================================\n",
      "find 2 frames from right camera.\n",
      "find 10 key points in right frame 0.\n",
      "find 10 key points in right frame 1.\n",
      "Euclidian Co-ordinate: X:[-3.343412] Y:[-2.8360858] Z:[1.3446834]\n",
      "Euclidian Co-ordinate: X:[-3.3425992] Y:[-2.8308406] Z:[1.3445036]\n",
      "Euclidian Co-ordinate: X:[-3.3419876] Y:[-2.826885] Z:[1.3443686]\n",
      "Euclidian Co-ordinate: X:[-3.3413742] Y:[-2.8229322] Z:[1.3442327]\n",
      "Euclidian Co-ordinate: X:[-3.3407943] Y:[-2.819181] Z:[1.3441046]\n",
      "Euclidian Co-ordinate: X:[-3.3383057] Y:[-2.8321972] Z:[1.3426058]\n",
      "Euclidian Co-ordinate: X:[-3.3374908] Y:[-2.8269343] Z:[1.3424257]\n",
      "Euclidian Co-ordinate: X:[-3.3368797] Y:[-2.822987] Z:[1.3422906]\n",
      "Euclidian Co-ordinate: X:[-3.3362687] Y:[-2.81904] Z:[1.3421556]\n",
      "Euclidian Co-ordinate: X:[-3.3356855] Y:[-2.8152742] Z:[1.3420266]\n",
      "Euclidian Co-ordinate: X:[-3.8396304] Y:[-2.8297226] Z:[1.5593957]\n",
      "Euclidian Co-ordinate: X:[-3.8352385] Y:[-2.8312447] Z:[1.5581506]\n",
      "Euclidian Co-ordinate: X:[-3.831925] Y:[-2.832392] Z:[1.5572113]\n",
      "Euclidian Co-ordinate: X:[-3.8286154] Y:[-2.8335383] Z:[1.5562729]\n",
      "Euclidian Co-ordinate: X:[-3.825474] Y:[-2.8346274] Z:[1.5553825]\n",
      "Euclidian Co-ordinate: X:[-3.8090193] Y:[-2.8024378] Z:[1.5497546]\n",
      "Euclidian Co-ordinate: X:[-3.807811] Y:[-2.8068135] Z:[1.5495127]\n",
      "Euclidian Co-ordinate: X:[-3.8069022] Y:[-2.8100936] Z:[1.5493304]\n",
      "Euclidian Co-ordinate: X:[-3.8059933] Y:[-2.8133736] Z:[1.549148]\n",
      "Euclidian Co-ordinate: X:[-3.8051288] Y:[-2.8165045] Z:[1.5489749]\n"
     ]
    }
   ],
   "source": [
    "if __name__ == \"__main__\":\n",
    "    keypoint_data = read_keypoints(\"./test_frames/TestJsons/captures_000.json\")\n",
    "    cal_data = read_cal_model(\"./camera_model.pickle\")\n",
    "    triangulate(cal_data, keypoint_data)"
   ]
  },
  {
   "cell_type": "code",
   "execution_count": 9,
   "metadata": {},
   "outputs": [
    {
     "name": "stdout",
     "output_type": "stream",
     "text": [
      "0.33983423853199174\n"
     ]
    }
   ],
   "source": [
    "    cal_data = read_cal_model(\"./camera_model.pickle\")\n",
    "    print(np.linalg.norm(cal_data.camera_model[\"T\"]))"
   ]
  }
 ],
 "metadata": {
  "kernelspec": {
   "display_name": "Python 3 (ipykernel)",
   "language": "python",
   "name": "python3"
  },
  "language_info": {
   "codemirror_mode": {
    "name": "ipython",
    "version": 3
   },
   "file_extension": ".py",
   "mimetype": "text/x-python",
   "name": "python",
   "nbconvert_exporter": "python",
   "pygments_lexer": "ipython3",
   "version": "3.7.6"
  }
 },
 "nbformat": 4,
 "nbformat_minor": 4
}
