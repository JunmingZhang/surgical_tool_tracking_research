{
 "cells": [
  {
   "cell_type": "code",
   "execution_count": 1,
   "id": "5eefdaef",
   "metadata": {},
   "outputs": [],
   "source": [
    "# !pip install datasetinsights\n",
    "import deeplabcut\n",
    "import os\n",
    "import glob\n",
    "import numpy as np\n",
    "import pandas as pd\n",
    "\n",
    "from label_data import *"
   ]
  },
  {
   "cell_type": "code",
   "execution_count": 2,
   "id": "dc3c5ad2",
   "metadata": {},
   "outputs": [],
   "source": [
    "config_path = os.path.abspath(r\"C:\\Users\\peter\\AppData\\LocalLow\\DefaultCompany\\surgical_tool_tracking_research\\inference\\surgical_tool_tracking-junming_zhang-2022-03-16\\config.yaml\")"
   ]
  },
  {
   "cell_type": "code",
   "execution_count": 15,
   "id": "2487af54",
   "metadata": {},
   "outputs": [
    {
     "name": "stdout",
     "output_type": "stream",
     "text": [
      "Config file read successfully.\n",
      "Extracting frames based on uniform ...\n",
      "Uniformly extracting of frames from 0.0  seconds to 10.0  seconds.\n",
      "Frames were successfully extracted, for the videos listed in the config.yaml file.\n",
      "\n",
      "You can now label the frames using the function 'label_frames' (Note, you should label frames extracted from diverse videos (and many videos; we do not recommend training on single videos!)).\n"
     ]
    }
   ],
   "source": [
    "# Data Selection (extract frames)\n",
    "# algo for frames collection: uniform / kmeans (clustering)\n",
    "deeplabcut.extract_frames(config_path, mode='automatic', algo='uniform', userfeedback=False, crop=False)"
   ]
  },
  {
   "cell_type": "code",
   "execution_count": 3,
   "id": "ab54c742",
   "metadata": {},
   "outputs": [],
   "source": [
    "# load unity dataset\n",
    "unity_dataset_dir = os.path.abspath(r\"C:\\Users\\peter\\AppData\\LocalLow\\DefaultCompany\\surgical_tool_tracking_research\\inference\\dataset\\train\\Dataset13911f3e-cc27-43d0-bc88-b25aaff005ef\")\n",
    "# dataset = UnityDataset(unity_dataset_dir)"
   ]
  },
  {
   "cell_type": "code",
   "execution_count": 4,
   "id": "1376d651",
   "metadata": {},
   "outputs": [],
   "source": [
    "img_type = \"*.png\"\n",
    "img_list_left = [os.path.join(\"labeled-data\", \"train_left\", fn.split(os.path.sep)[-1]) for fn in glob.glob(os.path.join(r\"surgical_tool_tracking-junming_zhang-2022-03-16/labeled-data/train_left\", img_type))]\n",
    "# img_list_right = [os.path.join(\"labeled-data\", \"train_right\", fn.split(os.path.sep)[-1]) for fn in glob.glob(os.path.join(r\"surgical_tool_tracking-junming_zhang-2022-03-13/labeled-data/train_right\", img_type))]\n",
    "# img_list = [val for pair in zip(img_list_left, img_list_right) for val in pair]\n",
    "img_list = img_list_left"
   ]
  },
  {
   "cell_type": "code",
   "execution_count": 5,
   "id": "12f78032",
   "metadata": {},
   "outputs": [],
   "source": [
    "scorer = 'junming_zhang'\n",
    "keypoints = [\"keypoint0\", \"keypoint1\", \"keypoint2\", \"keypoint3\", \\\n",
    "    \"keypoint4\", \"keypoint5\", \"keypoint6\", \"keypoint7\", \"keypoint8\", \"keypoint9\"]\n",
    "# real: total_img_num - 2\n",
    "total_img_num = 100"
   ]
  },
  {
   "cell_type": "code",
   "execution_count": 6,
   "id": "0597837b",
   "metadata": {},
   "outputs": [],
   "source": [
    "save_dir = os.path.abspath(r\"C:\\Users\\peter\\AppData\\LocalLow\\DefaultCompany\\surgical_tool_tracking_research\\inference\\surgical_tool_tracking-junming_zhang-2022-03-16\\labeled-data\\train_left\")"
   ]
  },
  {
   "cell_type": "code",
   "execution_count": 7,
   "id": "6954a424",
   "metadata": {},
   "outputs": [
    {
     "ename": "AttributeError",
     "evalue": "'list' object has no attribute 'split'",
     "output_type": "error",
     "traceback": [
      "\u001b[1;31m---------------------------------------------------------------------------\u001b[0m",
      "\u001b[1;31mAttributeError\u001b[0m                            Traceback (most recent call last)",
      "Input \u001b[1;32mIn [7]\u001b[0m, in \u001b[0;36m<cell line: 1>\u001b[1;34m()\u001b[0m\n\u001b[1;32m----> 1\u001b[0m df1 \u001b[39m=\u001b[39m save_dataset_labels(unity_dataset_dir, keypoints, img_list, scorer, total_img_num, interleaving\u001b[39m=\u001b[39;49m\u001b[39mTrue\u001b[39;49;00m, save_dir\u001b[39m=\u001b[39;49msave_dir)\n",
      "File \u001b[1;32mc:\\Users\\peter\\AppData\\LocalLow\\DefaultCompany\\surgical_tool_tracking_research\\inference\\label_data.py:143\u001b[0m, in \u001b[0;36msave_dataset_labels\u001b[1;34m(unity_dataset_dir, keypoints, img_list, scorer, total_img_num, interleaving, save_dir)\u001b[0m\n\u001b[0;32m    <a href='file:///c%3A/Users/peter/AppData/LocalLow/DefaultCompany/surgical_tool_tracking_research/inference/label_data.py?line=140'>141</a>\u001b[0m \u001b[39m# real case: total_img_num - 2\u001b[39;00m\n\u001b[0;32m    <a href='file:///c%3A/Users/peter/AppData/LocalLow/DefaultCompany/surgical_tool_tracking_research/inference/label_data.py?line=141'>142</a>\u001b[0m \u001b[39mfor\u001b[39;00m i \u001b[39min\u001b[39;00m \u001b[39mrange\u001b[39m(\u001b[39mmin\u001b[39m([\u001b[39mlen\u001b[39m(dataset), total_img_num, \u001b[39mlen\u001b[39m(img_list)])):\n\u001b[1;32m--> <a href='file:///c%3A/Users/peter/AppData/LocalLow/DefaultCompany/surgical_tool_tracking_research/inference/label_data.py?line=142'>143</a>\u001b[0m     keypoint_coords \u001b[39m=\u001b[39m dataset\u001b[39m.\u001b[39mget_keypoints(\u001b[39mint\u001b[39m(img_list\u001b[39m.\u001b[39;49msplit(\u001b[39m'\u001b[39m\u001b[39m.\u001b[39m\u001b[39m'\u001b[39m)[\u001b[39m0\u001b[39m][\u001b[39m3\u001b[39m:]))\n\u001b[0;32m    <a href='file:///c%3A/Users/peter/AppData/LocalLow/DefaultCompany/surgical_tool_tracking_research/inference/label_data.py?line=143'>144</a>\u001b[0m     \u001b[39mif\u001b[39;00m \u001b[39mnot\u001b[39;00m keypoint_coords:\n\u001b[0;32m    <a href='file:///c%3A/Users/peter/AppData/LocalLow/DefaultCompany/surgical_tool_tracking_research/inference/label_data.py?line=144'>145</a>\u001b[0m         \u001b[39mcontinue\u001b[39;00m\n",
      "\u001b[1;31mAttributeError\u001b[0m: 'list' object has no attribute 'split'"
     ]
    }
   ],
   "source": [
    "df1 = save_dataset_labels(unity_dataset_dir, keypoints, img_list, scorer, total_img_num, interleaving=True, save_dir=save_dir)"
   ]
  },
  {
   "cell_type": "code",
   "execution_count": 11,
   "id": "8b72e9ee",
   "metadata": {},
   "outputs": [],
   "source": [
    "df2 = save_dataset_labels(unity_dataset_dir, keypoints, img_list, scorer, total_img_num, interleaving=False, save_dir=save_dir)"
   ]
  },
  {
   "cell_type": "code",
   "execution_count": 13,
   "id": "ab88d236",
   "metadata": {},
   "outputs": [
    {
     "ename": "FileNotFoundError",
     "evalue": "[Errno 2] No such file or directory: 'C:\\\\Users\\\\peter\\\\AppData\\\\LocalLow\\\\DefaultCompany\\\\surgical_tool_tracking_research\\\\inference\\\\surgical_tool_tracking-junming_zhang-2022-03-16\\\\training-datasets\\\\iteration-0\\\\UnaugmentedDataSet_surgical_tool_trackingMar16\\\\surgical_tool_tracking_junming_zhang95shuffle1.mat'",
     "output_type": "error",
     "traceback": [
      "\u001b[1;31m---------------------------------------------------------------------------\u001b[0m",
      "\u001b[1;31mFileNotFoundError\u001b[0m                         Traceback (most recent call last)",
      "File \u001b[1;32m~\\anaconda3\\envs\\DEEPLABCUT\\lib\\site-packages\\scipy\\io\\matlab\\_mio.py:39\u001b[0m, in \u001b[0;36m_open_file\u001b[1;34m(file_like, appendmat, mode)\u001b[0m\n\u001b[0;32m     <a href='file:///c%3A/Users/peter/anaconda3/envs/DEEPLABCUT/lib/site-packages/scipy/io/matlab/_mio.py?line=37'>38</a>\u001b[0m \u001b[39mtry\u001b[39;00m:\n\u001b[1;32m---> <a href='file:///c%3A/Users/peter/anaconda3/envs/DEEPLABCUT/lib/site-packages/scipy/io/matlab/_mio.py?line=38'>39</a>\u001b[0m     \u001b[39mreturn\u001b[39;00m \u001b[39mopen\u001b[39;49m(file_like, mode), \u001b[39mTrue\u001b[39;00m\n\u001b[0;32m     <a href='file:///c%3A/Users/peter/anaconda3/envs/DEEPLABCUT/lib/site-packages/scipy/io/matlab/_mio.py?line=39'>40</a>\u001b[0m \u001b[39mexcept\u001b[39;00m \u001b[39mOSError\u001b[39;00m \u001b[39mas\u001b[39;00m e:\n\u001b[0;32m     <a href='file:///c%3A/Users/peter/anaconda3/envs/DEEPLABCUT/lib/site-packages/scipy/io/matlab/_mio.py?line=40'>41</a>\u001b[0m     \u001b[39m# Probably \"not found\"\u001b[39;00m\n",
      "\u001b[1;31mFileNotFoundError\u001b[0m: [Errno 2] No such file or directory: 'C:\\\\Users\\\\peter\\\\AppData\\\\LocalLow\\\\DefaultCompany\\\\surgical_tool_tracking_research\\\\inference\\\\surgical_tool_tracking-junming_zhang-2022-03-16\\\\training-datasets\\\\iteration-0\\\\UnaugmentedDataSet_surgical_tool_trackingMar16\\\\surgical_tool_tracking_junming_zhang95shuffle1.mat'",
      "\nDuring handling of the above exception, another exception occurred:\n",
      "\u001b[1;31mFileNotFoundError\u001b[0m                         Traceback (most recent call last)",
      "Input \u001b[1;32mIn [13]\u001b[0m, in \u001b[0;36m<cell line: 1>\u001b[1;34m()\u001b[0m\n\u001b[1;32m----> 1\u001b[0m deeplabcut\u001b[39m.\u001b[39;49mcreate_training_dataset(config_path, net_type\u001b[39m=\u001b[39;49m\u001b[39m\"\u001b[39;49m\u001b[39mresnet_50\u001b[39;49m\u001b[39m\"\u001b[39;49m, augmenter_type\u001b[39m=\u001b[39;49m\u001b[39m\"\u001b[39;49m\u001b[39mimgaug\u001b[39;49m\u001b[39m\"\u001b[39;49m)\n",
      "File \u001b[1;32m~\\anaconda3\\envs\\DEEPLABCUT\\lib\\site-packages\\deeplabcut\\generate_training_dataset\\trainingsetmanipulation.py:868\u001b[0m, in \u001b[0;36mcreate_training_dataset\u001b[1;34m(config, num_shuffles, Shuffles, windows2linux, userfeedback, trainIndices, testIndices, net_type, augmenter_type)\u001b[0m\n\u001b[0;32m    <a href='file:///c%3A/Users/peter/anaconda3/envs/DEEPLABCUT/lib/site-packages/deeplabcut/generate_training_dataset/trainingsetmanipulation.py?line=861'>862</a>\u001b[0m \u001b[39m################################################################################\u001b[39;00m\n\u001b[0;32m    <a href='file:///c%3A/Users/peter/anaconda3/envs/DEEPLABCUT/lib/site-packages/deeplabcut/generate_training_dataset/trainingsetmanipulation.py?line=862'>863</a>\u001b[0m \u001b[39m# Saving data file (convert to training file for deeper cut (*.mat))\u001b[39;00m\n\u001b[0;32m    <a href='file:///c%3A/Users/peter/anaconda3/envs/DEEPLABCUT/lib/site-packages/deeplabcut/generate_training_dataset/trainingsetmanipulation.py?line=863'>864</a>\u001b[0m \u001b[39m################################################################################\u001b[39;00m\n\u001b[0;32m    <a href='file:///c%3A/Users/peter/anaconda3/envs/DEEPLABCUT/lib/site-packages/deeplabcut/generate_training_dataset/trainingsetmanipulation.py?line=864'>865</a>\u001b[0m data, MatlabData \u001b[39m=\u001b[39m format_training_data(\n\u001b[0;32m    <a href='file:///c%3A/Users/peter/anaconda3/envs/DEEPLABCUT/lib/site-packages/deeplabcut/generate_training_dataset/trainingsetmanipulation.py?line=865'>866</a>\u001b[0m     Data, trainIndices, nbodyparts, project_path\n\u001b[0;32m    <a href='file:///c%3A/Users/peter/anaconda3/envs/DEEPLABCUT/lib/site-packages/deeplabcut/generate_training_dataset/trainingsetmanipulation.py?line=866'>867</a>\u001b[0m )\n\u001b[1;32m--> <a href='file:///c%3A/Users/peter/anaconda3/envs/DEEPLABCUT/lib/site-packages/deeplabcut/generate_training_dataset/trainingsetmanipulation.py?line=867'>868</a>\u001b[0m sio\u001b[39m.\u001b[39;49msavemat(\n\u001b[0;32m    <a href='file:///c%3A/Users/peter/anaconda3/envs/DEEPLABCUT/lib/site-packages/deeplabcut/generate_training_dataset/trainingsetmanipulation.py?line=868'>869</a>\u001b[0m     os\u001b[39m.\u001b[39;49mpath\u001b[39m.\u001b[39;49mjoin(project_path, datafilename), {\u001b[39m\"\u001b[39;49m\u001b[39mdataset\u001b[39;49m\u001b[39m\"\u001b[39;49m: MatlabData}\n\u001b[0;32m    <a href='file:///c%3A/Users/peter/anaconda3/envs/DEEPLABCUT/lib/site-packages/deeplabcut/generate_training_dataset/trainingsetmanipulation.py?line=869'>870</a>\u001b[0m )\n\u001b[0;32m    <a href='file:///c%3A/Users/peter/anaconda3/envs/DEEPLABCUT/lib/site-packages/deeplabcut/generate_training_dataset/trainingsetmanipulation.py?line=871'>872</a>\u001b[0m \u001b[39m################################################################################\u001b[39;00m\n\u001b[0;32m    <a href='file:///c%3A/Users/peter/anaconda3/envs/DEEPLABCUT/lib/site-packages/deeplabcut/generate_training_dataset/trainingsetmanipulation.py?line=872'>873</a>\u001b[0m \u001b[39m# Saving metadata (Pickle file)\u001b[39;00m\n\u001b[0;32m    <a href='file:///c%3A/Users/peter/anaconda3/envs/DEEPLABCUT/lib/site-packages/deeplabcut/generate_training_dataset/trainingsetmanipulation.py?line=873'>874</a>\u001b[0m \u001b[39m################################################################################\u001b[39;00m\n\u001b[0;32m    <a href='file:///c%3A/Users/peter/anaconda3/envs/DEEPLABCUT/lib/site-packages/deeplabcut/generate_training_dataset/trainingsetmanipulation.py?line=874'>875</a>\u001b[0m auxiliaryfunctions\u001b[39m.\u001b[39mSaveMetadata(\n\u001b[0;32m    <a href='file:///c%3A/Users/peter/anaconda3/envs/DEEPLABCUT/lib/site-packages/deeplabcut/generate_training_dataset/trainingsetmanipulation.py?line=875'>876</a>\u001b[0m     os\u001b[39m.\u001b[39mpath\u001b[39m.\u001b[39mjoin(project_path, metadatafilename),\n\u001b[0;32m    <a href='file:///c%3A/Users/peter/anaconda3/envs/DEEPLABCUT/lib/site-packages/deeplabcut/generate_training_dataset/trainingsetmanipulation.py?line=876'>877</a>\u001b[0m     data,\n\u001b[1;32m   (...)\u001b[0m\n\u001b[0;32m    <a href='file:///c%3A/Users/peter/anaconda3/envs/DEEPLABCUT/lib/site-packages/deeplabcut/generate_training_dataset/trainingsetmanipulation.py?line=879'>880</a>\u001b[0m     trainFraction,\n\u001b[0;32m    <a href='file:///c%3A/Users/peter/anaconda3/envs/DEEPLABCUT/lib/site-packages/deeplabcut/generate_training_dataset/trainingsetmanipulation.py?line=880'>881</a>\u001b[0m )\n",
      "File \u001b[1;32m~\\anaconda3\\envs\\DEEPLABCUT\\lib\\site-packages\\scipy\\io\\matlab\\_mio.py:285\u001b[0m, in \u001b[0;36msavemat\u001b[1;34m(file_name, mdict, appendmat, format, long_field_names, do_compression, oned_as)\u001b[0m\n\u001b[0;32m    <a href='file:///c%3A/Users/peter/anaconda3/envs/DEEPLABCUT/lib/site-packages/scipy/io/matlab/_mio.py?line=235'>236</a>\u001b[0m \u001b[39m@docfiller\u001b[39m\n\u001b[0;32m    <a href='file:///c%3A/Users/peter/anaconda3/envs/DEEPLABCUT/lib/site-packages/scipy/io/matlab/_mio.py?line=236'>237</a>\u001b[0m \u001b[39mdef\u001b[39;00m \u001b[39msavemat\u001b[39m(file_name, mdict,\n\u001b[0;32m    <a href='file:///c%3A/Users/peter/anaconda3/envs/DEEPLABCUT/lib/site-packages/scipy/io/matlab/_mio.py?line=237'>238</a>\u001b[0m             appendmat\u001b[39m=\u001b[39m\u001b[39mTrue\u001b[39;00m,\n\u001b[1;32m   (...)\u001b[0m\n\u001b[0;32m    <a href='file:///c%3A/Users/peter/anaconda3/envs/DEEPLABCUT/lib/site-packages/scipy/io/matlab/_mio.py?line=240'>241</a>\u001b[0m             do_compression\u001b[39m=\u001b[39m\u001b[39mFalse\u001b[39;00m,\n\u001b[0;32m    <a href='file:///c%3A/Users/peter/anaconda3/envs/DEEPLABCUT/lib/site-packages/scipy/io/matlab/_mio.py?line=241'>242</a>\u001b[0m             oned_as\u001b[39m=\u001b[39m\u001b[39m'\u001b[39m\u001b[39mrow\u001b[39m\u001b[39m'\u001b[39m):\n\u001b[0;32m    <a href='file:///c%3A/Users/peter/anaconda3/envs/DEEPLABCUT/lib/site-packages/scipy/io/matlab/_mio.py?line=242'>243</a>\u001b[0m     \u001b[39m\"\"\"\u001b[39;00m\n\u001b[0;32m    <a href='file:///c%3A/Users/peter/anaconda3/envs/DEEPLABCUT/lib/site-packages/scipy/io/matlab/_mio.py?line=243'>244</a>\u001b[0m \u001b[39m    Save a dictionary of names and arrays into a MATLAB-style .mat file.\u001b[39;00m\n\u001b[0;32m    <a href='file:///c%3A/Users/peter/anaconda3/envs/DEEPLABCUT/lib/site-packages/scipy/io/matlab/_mio.py?line=244'>245</a>\u001b[0m \n\u001b[1;32m   (...)\u001b[0m\n\u001b[0;32m    <a href='file:///c%3A/Users/peter/anaconda3/envs/DEEPLABCUT/lib/site-packages/scipy/io/matlab/_mio.py?line=282'>283</a>\u001b[0m \u001b[39m    >>> savemat(\"matlab_matrix.mat\", mdic)\u001b[39;00m\n\u001b[0;32m    <a href='file:///c%3A/Users/peter/anaconda3/envs/DEEPLABCUT/lib/site-packages/scipy/io/matlab/_mio.py?line=283'>284</a>\u001b[0m \u001b[39m    \"\"\"\u001b[39;00m\n\u001b[1;32m--> <a href='file:///c%3A/Users/peter/anaconda3/envs/DEEPLABCUT/lib/site-packages/scipy/io/matlab/_mio.py?line=284'>285</a>\u001b[0m     \u001b[39mwith\u001b[39;00m _open_file_context(file_name, appendmat, \u001b[39m'\u001b[39m\u001b[39mwb\u001b[39m\u001b[39m'\u001b[39m) \u001b[39mas\u001b[39;00m file_stream:\n\u001b[0;32m    <a href='file:///c%3A/Users/peter/anaconda3/envs/DEEPLABCUT/lib/site-packages/scipy/io/matlab/_mio.py?line=285'>286</a>\u001b[0m         \u001b[39mif\u001b[39;00m \u001b[39mformat\u001b[39m \u001b[39m==\u001b[39m \u001b[39m'\u001b[39m\u001b[39m4\u001b[39m\u001b[39m'\u001b[39m:\n\u001b[0;32m    <a href='file:///c%3A/Users/peter/anaconda3/envs/DEEPLABCUT/lib/site-packages/scipy/io/matlab/_mio.py?line=286'>287</a>\u001b[0m             \u001b[39mif\u001b[39;00m long_field_names:\n",
      "File \u001b[1;32m~\\anaconda3\\envs\\DEEPLABCUT\\lib\\contextlib.py:113\u001b[0m, in \u001b[0;36m_GeneratorContextManager.__enter__\u001b[1;34m(self)\u001b[0m\n\u001b[0;32m    <a href='file:///c%3A/Users/peter/anaconda3/envs/DEEPLABCUT/lib/contextlib.py?line=110'>111</a>\u001b[0m \u001b[39mdel\u001b[39;00m \u001b[39mself\u001b[39m\u001b[39m.\u001b[39margs, \u001b[39mself\u001b[39m\u001b[39m.\u001b[39mkwds, \u001b[39mself\u001b[39m\u001b[39m.\u001b[39mfunc\n\u001b[0;32m    <a href='file:///c%3A/Users/peter/anaconda3/envs/DEEPLABCUT/lib/contextlib.py?line=111'>112</a>\u001b[0m \u001b[39mtry\u001b[39;00m:\n\u001b[1;32m--> <a href='file:///c%3A/Users/peter/anaconda3/envs/DEEPLABCUT/lib/contextlib.py?line=112'>113</a>\u001b[0m     \u001b[39mreturn\u001b[39;00m \u001b[39mnext\u001b[39;49m(\u001b[39mself\u001b[39;49m\u001b[39m.\u001b[39;49mgen)\n\u001b[0;32m    <a href='file:///c%3A/Users/peter/anaconda3/envs/DEEPLABCUT/lib/contextlib.py?line=113'>114</a>\u001b[0m \u001b[39mexcept\u001b[39;00m \u001b[39mStopIteration\u001b[39;00m:\n\u001b[0;32m    <a href='file:///c%3A/Users/peter/anaconda3/envs/DEEPLABCUT/lib/contextlib.py?line=114'>115</a>\u001b[0m     \u001b[39mraise\u001b[39;00m \u001b[39mRuntimeError\u001b[39;00m(\u001b[39m\"\u001b[39m\u001b[39mgenerator didn\u001b[39m\u001b[39m'\u001b[39m\u001b[39mt yield\u001b[39m\u001b[39m\"\u001b[39m) \u001b[39mfrom\u001b[39;00m \u001b[39mNone\u001b[39m\n",
      "File \u001b[1;32m~\\anaconda3\\envs\\DEEPLABCUT\\lib\\site-packages\\scipy\\io\\matlab\\_mio.py:17\u001b[0m, in \u001b[0;36m_open_file_context\u001b[1;34m(file_like, appendmat, mode)\u001b[0m\n\u001b[0;32m     <a href='file:///c%3A/Users/peter/anaconda3/envs/DEEPLABCUT/lib/site-packages/scipy/io/matlab/_mio.py?line=14'>15</a>\u001b[0m \u001b[39m@contextmanager\u001b[39m\n\u001b[0;32m     <a href='file:///c%3A/Users/peter/anaconda3/envs/DEEPLABCUT/lib/site-packages/scipy/io/matlab/_mio.py?line=15'>16</a>\u001b[0m \u001b[39mdef\u001b[39;00m \u001b[39m_open_file_context\u001b[39m(file_like, appendmat, mode\u001b[39m=\u001b[39m\u001b[39m'\u001b[39m\u001b[39mrb\u001b[39m\u001b[39m'\u001b[39m):\n\u001b[1;32m---> <a href='file:///c%3A/Users/peter/anaconda3/envs/DEEPLABCUT/lib/site-packages/scipy/io/matlab/_mio.py?line=16'>17</a>\u001b[0m     f, opened \u001b[39m=\u001b[39m _open_file(file_like, appendmat, mode)\n\u001b[0;32m     <a href='file:///c%3A/Users/peter/anaconda3/envs/DEEPLABCUT/lib/site-packages/scipy/io/matlab/_mio.py?line=17'>18</a>\u001b[0m     \u001b[39mtry\u001b[39;00m:\n\u001b[0;32m     <a href='file:///c%3A/Users/peter/anaconda3/envs/DEEPLABCUT/lib/site-packages/scipy/io/matlab/_mio.py?line=18'>19</a>\u001b[0m         \u001b[39myield\u001b[39;00m f\n",
      "File \u001b[1;32m~\\anaconda3\\envs\\DEEPLABCUT\\lib\\site-packages\\scipy\\io\\matlab\\_mio.py:45\u001b[0m, in \u001b[0;36m_open_file\u001b[1;34m(file_like, appendmat, mode)\u001b[0m\n\u001b[0;32m     <a href='file:///c%3A/Users/peter/anaconda3/envs/DEEPLABCUT/lib/site-packages/scipy/io/matlab/_mio.py?line=42'>43</a>\u001b[0m     \u001b[39mif\u001b[39;00m appendmat \u001b[39mand\u001b[39;00m \u001b[39mnot\u001b[39;00m file_like\u001b[39m.\u001b[39mendswith(\u001b[39m'\u001b[39m\u001b[39m.mat\u001b[39m\u001b[39m'\u001b[39m):\n\u001b[0;32m     <a href='file:///c%3A/Users/peter/anaconda3/envs/DEEPLABCUT/lib/site-packages/scipy/io/matlab/_mio.py?line=43'>44</a>\u001b[0m         file_like \u001b[39m+\u001b[39m\u001b[39m=\u001b[39m \u001b[39m'\u001b[39m\u001b[39m.mat\u001b[39m\u001b[39m'\u001b[39m\n\u001b[1;32m---> <a href='file:///c%3A/Users/peter/anaconda3/envs/DEEPLABCUT/lib/site-packages/scipy/io/matlab/_mio.py?line=44'>45</a>\u001b[0m     \u001b[39mreturn\u001b[39;00m \u001b[39mopen\u001b[39;49m(file_like, mode), \u001b[39mTrue\u001b[39;00m\n\u001b[0;32m     <a href='file:///c%3A/Users/peter/anaconda3/envs/DEEPLABCUT/lib/site-packages/scipy/io/matlab/_mio.py?line=45'>46</a>\u001b[0m \u001b[39melse\u001b[39;00m:\n\u001b[0;32m     <a href='file:///c%3A/Users/peter/anaconda3/envs/DEEPLABCUT/lib/site-packages/scipy/io/matlab/_mio.py?line=46'>47</a>\u001b[0m     \u001b[39mraise\u001b[39;00m \u001b[39mOSError\u001b[39;00m(\n\u001b[0;32m     <a href='file:///c%3A/Users/peter/anaconda3/envs/DEEPLABCUT/lib/site-packages/scipy/io/matlab/_mio.py?line=47'>48</a>\u001b[0m         \u001b[39m'\u001b[39m\u001b[39mReader needs file name or open file-like object\u001b[39m\u001b[39m'\u001b[39m\n\u001b[0;32m     <a href='file:///c%3A/Users/peter/anaconda3/envs/DEEPLABCUT/lib/site-packages/scipy/io/matlab/_mio.py?line=48'>49</a>\u001b[0m     ) \u001b[39mfrom\u001b[39;00m \u001b[39me\u001b[39;00m\n",
      "\u001b[1;31mFileNotFoundError\u001b[0m: [Errno 2] No such file or directory: 'C:\\\\Users\\\\peter\\\\AppData\\\\LocalLow\\\\DefaultCompany\\\\surgical_tool_tracking_research\\\\inference\\\\surgical_tool_tracking-junming_zhang-2022-03-16\\\\training-datasets\\\\iteration-0\\\\UnaugmentedDataSet_surgical_tool_trackingMar16\\\\surgical_tool_tracking_junming_zhang95shuffle1.mat'"
     ]
    }
   ],
   "source": [
    "deeplabcut.create_training_dataset(config_path, net_type=\"resnet_50\", augmenter_type=\"imgaug\")"
   ]
  }
 ],
 "metadata": {
  "kernelspec": {
   "display_name": "Python 3 (ipykernel)",
   "language": "python",
   "name": "python3"
  },
  "language_info": {
   "codemirror_mode": {
    "name": "ipython",
    "version": 3
   },
   "file_extension": ".py",
   "mimetype": "text/x-python",
   "name": "python",
   "nbconvert_exporter": "python",
   "pygments_lexer": "ipython3",
   "version": "3.8.12"
  }
 },
 "nbformat": 4,
 "nbformat_minor": 5
}
