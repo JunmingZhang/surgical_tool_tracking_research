{
 "cells": [
  {
   "cell_type": "code",
   "execution_count": 1,
   "id": "5eefdaef",
   "metadata": {},
   "outputs": [],
   "source": [
    "import deeplabcut\n",
    "import os\n",
    "from label_data import *"
   ]
  },
  {
   "cell_type": "code",
   "execution_count": 4,
   "id": "dc3c5ad2",
   "metadata": {},
   "outputs": [],
   "source": [
    "config_path = os.path.abspath(r\"C:\\Users\\peter\\AppData\\LocalLow\\DefaultCompany\\surgical_tool_tracking_research\\inference\\surgical_tool_tracking-junming_zhang-2022-03-13\\config.yaml\")"
   ]
  },
  {
   "cell_type": "code",
   "execution_count": 5,
   "id": "2487af54",
   "metadata": {},
   "outputs": [
    {
     "name": "stdout",
     "output_type": "stream",
     "text": [
      "Config file read successfully.\n",
      "Extracting frames based on kmeans ...\n",
      "Kmeans-quantization based extracting of frames from 0.0  seconds to 1000.1  seconds.\n",
      "Extracting and downsampling... 10001  frames from the video.\n"
     ]
    },
    {
     "name": "stderr",
     "output_type": "stream",
     "text": [
      "10001it [00:05, 1687.56it/s]\n"
     ]
    },
    {
     "name": "stdout",
     "output_type": "stream",
     "text": [
      "Kmeans clustering ... (this might take a while)\n"
     ]
    },
    {
     "name": "stderr",
     "output_type": "stream",
     "text": [
      "C:\\Users\\peter\\anaconda3\\lib\\site-packages\\sklearn\\cluster\\_kmeans.py:1044: UserWarning: MiniBatchKMeans is known to have a memory leak on Windows with MKL, when there are less chunks than available threads. You can prevent it by setting batch_size >= 2048 or by setting the environment variable OMP_NUM_THREADS=1\n",
      "  \"MiniBatchKMeans is known to have a memory leak on \"\n",
      "C:\\Users\\peter\\anaconda3\\lib\\site-packages\\deeplabcut\\generate_training_dataset\\frame_extraction.py:354: UserWarning: C:\\Users\\peter\\AppData\\LocalLow\\DefaultCompany\\surgical_tool_tracking_research\\inference\\surgical_tool_tracking-junming_zhang-2022-03-13\\labeled-data\\train_left/img07075.png is a low contrast image\n",
      "  io.imsave(img_name, image)\n",
      "C:\\Users\\peter\\anaconda3\\lib\\site-packages\\deeplabcut\\generate_training_dataset\\frame_extraction.py:354: UserWarning: C:\\Users\\peter\\AppData\\LocalLow\\DefaultCompany\\surgical_tool_tracking_research\\inference\\surgical_tool_tracking-junming_zhang-2022-03-13\\labeled-data\\train_left/img02002.png is a low contrast image\n",
      "  io.imsave(img_name, image)\n"
     ]
    },
    {
     "name": "stdout",
     "output_type": "stream",
     "text": [
      "Extracting frames based on kmeans ...\n",
      "Kmeans-quantization based extracting of frames from 0.0  seconds to 1000.1  seconds.\n",
      "Extracting and downsampling... 10001  frames from the video.\n"
     ]
    },
    {
     "name": "stderr",
     "output_type": "stream",
     "text": [
      "10001it [00:04, 2036.05it/s]\n",
      "C:\\Users\\peter\\anaconda3\\lib\\site-packages\\sklearn\\cluster\\_kmeans.py:1044: UserWarning: MiniBatchKMeans is known to have a memory leak on Windows with MKL, when there are less chunks than available threads. You can prevent it by setting batch_size >= 2048 or by setting the environment variable OMP_NUM_THREADS=1\n",
      "  \"MiniBatchKMeans is known to have a memory leak on \"\n"
     ]
    },
    {
     "name": "stdout",
     "output_type": "stream",
     "text": [
      "Kmeans clustering ... (this might take a while)\n",
      "Frames were successfully extracted, for the videos listed in the config.yaml file.\n",
      "\n",
      "You can now label the frames using the function 'label_frames' (Note, you should label frames extracted from diverse videos (and many videos; we do not recommend training on single videos!)).\n"
     ]
    }
   ],
   "source": [
    "# Data Selection (extract frames)\n",
    "# algo for frames collection: uniform / k-means (clustering)\n",
    "deeplabcut.extract_frames(config_path, mode='automatic', algo='kmeans', userfeedback=False, crop=False)"
   ]
  },
  {
   "cell_type": "code",
   "execution_count": null,
   "id": "ab54c742",
   "metadata": {},
   "outputs": [],
   "source": [
    "# load unity dataset\n",
    "unity_dataset_dir = os.path.abspath(r\"C:\\Users\\peter\\AppData\\LocalLow\\DefaultCompany\\surgical_tool_tracking_research\\inference\\dataset\\train\\Dataset13911f3e-cc27-43d0-bc88-b25aaff005ef\")\n",
    "dataset = UnityDataset(unity_dataset_dir)"
   ]
  },
  {
   "cell_type": "code",
   "execution_count": null,
   "id": "1376d651",
   "metadata": {},
   "outputs": [],
   "source": [
    "relative_filepath = dataset.get_img_filename(1)\n",
    "print(relative_filepath)"
   ]
  }
 ],
 "metadata": {
  "kernelspec": {
   "display_name": "Python 3 (ipykernel)",
   "language": "python",
   "name": "python3"
  },
  "language_info": {
   "codemirror_mode": {
    "name": "ipython",
    "version": 3
   },
   "file_extension": ".py",
   "mimetype": "text/x-python",
   "name": "python",
   "nbconvert_exporter": "python",
   "pygments_lexer": "ipython3",
   "version": "3.7.6"
  }
 },
 "nbformat": 4,
 "nbformat_minor": 5
}
